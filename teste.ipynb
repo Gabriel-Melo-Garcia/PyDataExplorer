{
 "cells": [
  {
   "cell_type": "code",
   "execution_count": 9,
   "metadata": {},
   "outputs": [],
   "source": [
    "models = {}\n",
    "\n",
    "models['name'] = {\n",
    "                \"model\": 'model',\n",
    "                \"features\": 'features',\n",
    "                \"target\": 'target',\n",
    "                \"scaler\": 'self.scaler',\n",
    "                \"accuracy\":' accuracy',\n",
    "                \"time\": 'train_time'\n",
    "            }\n",
    "models['Logistic Regression']= {'model': 'LogisticRegression()',\n",
    "                                'features': ['Name', 'Age', 'Gender'],\n",
    "                                'target': 'Salary',\n",
    "                                'scaler': 'StandardScaler()', \n",
    "                                'accuracy': 0.0,\n",
    "                                'time': 0.661231279373169}\n",
    "\n"
   ]
  },
  {
   "cell_type": "code",
   "execution_count": 10,
   "metadata": {},
   "outputs": [
    {
     "data": {
      "text/plain": [
       "{'name': {'model': 'model',\n",
       "  'features': 'features',\n",
       "  'target': 'target',\n",
       "  'scaler': 'self.scaler',\n",
       "  'accuracy': ' accuracy',\n",
       "  'time': 'train_time'},\n",
       " 'Logistic Regression': {'model': 'LogisticRegression()',\n",
       "  'features': ['Name', 'Age', 'Gender'],\n",
       "  'target': 'Salary',\n",
       "  'scaler': 'StandardScaler()',\n",
       "  'accuracy': 0.0,\n",
       "  'time': 0.661231279373169}}"
      ]
     },
     "execution_count": 10,
     "metadata": {},
     "output_type": "execute_result"
    }
   ],
   "source": [
    "models"
   ]
  },
  {
   "cell_type": "code",
   "execution_count": 11,
   "metadata": {},
   "outputs": [
    {
     "name": "stdout",
     "output_type": "stream",
     "text": [
      "0\n",
      "name\n",
      "features\n",
      "target\n",
      "{'model': 'model', 'features': 'features', 'target': 'target', 'scaler': 'self.scaler', 'accuracy': ' accuracy', 'time': 'train_time'}\n",
      "1\n",
      "Logistic Regression\n",
      "['Name', 'Age', 'Gender']\n",
      "Salary\n",
      "{'model': 'LogisticRegression()', 'features': ['Name', 'Age', 'Gender'], 'target': 'Salary', 'scaler': 'StandardScaler()', 'accuracy': 0.0, 'time': 0.661231279373169}\n"
     ]
    }
   ],
   "source": [
    "for row,value in enumerate(models):\n",
    "    print(row)\n",
    "    print(value)\n",
    "    print(models[value]['features'])\n",
    "    print(models[value]['target'])\n",
    "    print(models[value])"
   ]
  }
 ],
 "metadata": {
  "kernelspec": {
   "display_name": "Python 3",
   "language": "python",
   "name": "python3"
  },
  "language_info": {
   "codemirror_mode": {
    "name": "ipython",
    "version": 3
   },
   "file_extension": ".py",
   "mimetype": "text/x-python",
   "name": "python",
   "nbconvert_exporter": "python",
   "pygments_lexer": "ipython3",
   "version": "3.13.0"
  }
 },
 "nbformat": 4,
 "nbformat_minor": 2
}
